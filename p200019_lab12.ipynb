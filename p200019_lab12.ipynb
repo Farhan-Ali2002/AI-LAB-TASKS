{
 "cells": [
  {
   "cell_type": "code",
   "execution_count": 62,
   "id": "0293bde7-bd05-4900-be8a-fdeec0c8dfdc",
   "metadata": {},
   "outputs": [
    {
     "data": {
      "text/plain": [
       "array([[0., 0., 0., 0.],\n",
       "       [0., 0., 0., 0.],\n",
       "       [0., 0., 0., 0.],\n",
       "       [0., 0., 0., 0.]])"
      ]
     },
     "execution_count": 62,
     "metadata": {},
     "output_type": "execute_result"
    }
   ],
   "source": [
    "import numpy as np;\n",
    "initialState = np.zeros((4,4))\n",
    "initialState\n"
   ]
  },
  {
   "cell_type": "code",
   "execution_count": null,
   "id": "7b8a01d1-6d86-4155-89c0-38d1afff4731",
   "metadata": {},
   "outputs": [],
   "source": []
  },
  {
   "cell_type": "code",
   "execution_count": 63,
   "id": "3b330e12-41a0-47b9-bfea-1dd896c77563",
   "metadata": {},
   "outputs": [],
   "source": [
    "def getFitness(arr,n):\n",
    "    count = 0\n",
    "    for i in range(n*n):\n",
    "        if arr[i] == 1:\n",
    "            count+=1\n",
    "    return count \n",
    "            "
   ]
  },
  {
   "cell_type": "code",
   "execution_count": 64,
   "id": "6f0ab01b-cf8b-45fb-81c4-4a022da2df00",
   "metadata": {},
   "outputs": [
    {
     "data": {
      "text/plain": [
       "array([0., 0., 0., 0., 0., 0., 0., 0., 0., 0., 0., 0., 0., 0., 0., 0.])"
      ]
     },
     "execution_count": 64,
     "metadata": {},
     "output_type": "execute_result"
    }
   ],
   "source": [
    "new1Darr = initialState.reshape(16)\n",
    "new1Darr"
   ]
  },
  {
   "cell_type": "code",
   "execution_count": 65,
   "id": "b36d36a3-bd08-491c-b406-beb675cdb7d0",
   "metadata": {},
   "outputs": [],
   "source": [
    "from random import randint as rd\n",
    "import copy\n",
    "def generatePopulation(n):\n",
    "    population = {}\n",
    "    sq = n*n\n",
    "    for i in range(10):\n",
    "        state = [0]*sq\n",
    "        no_of_ones_random = rd(0,sq-1)\n",
    "        for j in range(no_of_ones_random):\n",
    "            index_of_one = rd(0,sq-1)\n",
    "            state[index_of_one] = 1\n",
    "        population[f'p{i}'] = (copy.deepcopy(state))\n",
    "    return population\n",
    "    \n",
    "            \n",
    "            \n",
    "      "
   ]
  },
  {
   "cell_type": "code",
   "execution_count": 66,
   "id": "dc87892f-cbaf-46d7-9307-d31d3a79bd52",
   "metadata": {},
   "outputs": [],
   "source": [
    "myPopulation = generatePopulation(4)"
   ]
  },
  {
   "cell_type": "code",
   "execution_count": 67,
   "id": "b9f5fcb1-9580-4ab9-a253-f926feb3c28d",
   "metadata": {},
   "outputs": [],
   "source": [
    "myPopulation\n",
    "fitness  = {}\n",
    "for key,value in myPopulation.items():\n",
    "    fitness[key] = getFitness(value,4)\n",
    "\n"
   ]
  },
  {
   "cell_type": "code",
   "execution_count": 68,
   "id": "19edcc4a-f985-43e6-b183-309d34971c42",
   "metadata": {},
   "outputs": [
    {
     "data": {
      "text/plain": [
       "{'p0': 3,\n",
       " 'p1': 6,\n",
       " 'p2': 6,\n",
       " 'p3': 7,\n",
       " 'p4': 11,\n",
       " 'p5': 5,\n",
       " 'p6': 5,\n",
       " 'p7': 6,\n",
       " 'p8': 4,\n",
       " 'p9': 4}"
      ]
     },
     "execution_count": 68,
     "metadata": {},
     "output_type": "execute_result"
    }
   ],
   "source": [
    "fitness"
   ]
  },
  {
   "cell_type": "code",
   "execution_count": 42,
   "id": "49c52eb3-1bea-458a-9618-919614d14d7d",
   "metadata": {},
   "outputs": [],
   "source": [
    "# choose parents with high fitness"
   ]
  },
  {
   "cell_type": "code",
   "execution_count": 69,
   "id": "ad14b8aa-8683-4d2d-a3ef-2536ad98ab19",
   "metadata": {},
   "outputs": [
    {
     "name": "stdout",
     "output_type": "stream",
     "text": [
      "after first {'p4': 11}\n",
      "after sec {'p4': 11, 'p3': 7}\n"
     ]
    }
   ],
   "source": [
    "selectedParents = {}\n",
    "maxx = 0\n",
    "maxKey = None\n",
    "dummy = copy.deepcopy(fitness)\n",
    "for key,value in dummy.items():\n",
    "    # print(key,value)\n",
    "    if value > maxx:\n",
    "        maxx = value\n",
    "        maxKey = key\n",
    "selectedParents[maxKey] = maxx\n",
    "dummy.pop(maxKey)\n",
    "print(\"after first\",selectedParents)\n",
    "maxx = 0\n",
    "for key,value in dummy.items():\n",
    "    # print(key,value)\n",
    "    if value > maxx:\n",
    "        maxx = value\n",
    "        maxKey = key\n",
    "\n",
    "selectedParents[maxKey] = maxx   \n",
    "print(\"after sec\",selectedParents)\n",
    "\n",
    "    "
   ]
  },
  {
   "cell_type": "code",
   "execution_count": 53,
   "id": "3a13cd6e-162a-4556-9dcc-7f9b0563fc68",
   "metadata": {},
   "outputs": [],
   "source": [
    "# def getMax(fitness):\n",
    "#     maxx = 0\n",
    "#     for key,value in dummy.items():\n",
    "#     # print(key,value)\n",
    "#         if value > maxx:\n",
    "#             maxx = value\n",
    "#             maxKey = key"
   ]
  },
  {
   "cell_type": "code",
   "execution_count": 70,
   "id": "a936ea06-88e4-41e3-ab0a-4da66dfbeb35",
   "metadata": {},
   "outputs": [
    {
     "name": "stdout",
     "output_type": "stream",
     "text": [
      "p4\n",
      "[1, 0, 1, 1, 1, 1, 1, 1, 0, 0, 1, 1, 0, 0, 1, 1]\n",
      "p3\n",
      "[0, 0, 1, 0, 1, 0, 0, 1, 1, 0, 0, 1, 1, 1, 0, 0]\n"
     ]
    },
    {
     "data": {
      "text/plain": [
       "[[1, 0, 1, 1, 1, 1, 1, 1],\n",
       " [0, 0, 1, 1, 0, 0, 1, 1],\n",
       " [0, 0, 1, 0, 1, 0, 0, 1],\n",
       " [1, 0, 0, 1, 1, 1, 0, 0]]"
      ]
     },
     "execution_count": 70,
     "metadata": {},
     "output_type": "execute_result"
    }
   ],
   "source": [
    "#crossover\n",
    "crossOverList = []\n",
    "childrens = {}\n",
    "for keys in selectedParents:\n",
    "    print(keys)\n",
    "    print(myPopulation[keys])\n",
    "    half_length = len(myPopulation[keys]) // 2\n",
    "    first_half = myPopulation[keys][:half_length]\n",
    "    crossOverList.append(copy.deepcopy(first_half))\n",
    "    second_half = myPopulation[keys][half_length:]\n",
    "    crossOverList.append(copy.deepcopy(second_half))\n",
    "    \n",
    "    \n",
    "crossOverList    "
   ]
  },
  {
   "cell_type": "code",
   "execution_count": 71,
   "id": "b25c2c86-35e5-45a2-85d6-e16027e22b7d",
   "metadata": {},
   "outputs": [
    {
     "data": {
      "text/plain": [
       "{'c1': None, 'c2': None}"
      ]
     },
     "execution_count": 71,
     "metadata": {},
     "output_type": "execute_result"
    }
   ],
   "source": [
    "childrens['c1'] = crossOverList[0].extend(crossOverList[2])\n",
    "childrens['c2'] = crossOverList[1].extend(crossOverList[3])\n",
    "\n",
    "\n",
    "childrens"
   ]
  },
  {
   "cell_type": "code",
   "execution_count": null,
   "id": "fcc885db-36dc-40ec-8355-ff9bdc99a56d",
   "metadata": {},
   "outputs": [],
   "source": []
  }
 ],
 "metadata": {
  "kernelspec": {
   "display_name": "Python 3 (ipykernel)",
   "language": "python",
   "name": "python3"
  },
  "language_info": {
   "codemirror_mode": {
    "name": "ipython",
    "version": 3
   },
   "file_extension": ".py",
   "mimetype": "text/x-python",
   "name": "python",
   "nbconvert_exporter": "python",
   "pygments_lexer": "ipython3",
   "version": "3.9.13"
  }
 },
 "nbformat": 4,
 "nbformat_minor": 5
}
